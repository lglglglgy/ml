{
 "cells": [
  {
   "cell_type": "code",
   "execution_count": 1,
   "metadata": {},
   "outputs": [],
   "source": [
    "import torch \n",
    "import torch.nn as nn\n",
    "import torch.nn.functional as F\n",
    "import torch.optim as optim\n",
    "from torchvision import transforms,datasets\n",
    "import os"
   ]
  },
  {
   "cell_type": "code",
   "execution_count": 2,
   "metadata": {},
   "outputs": [
    {
     "name": "stdout",
     "output_type": "stream",
     "text": [
      "cuda\n"
     ]
    }
   ],
   "source": [
    "BATCH_SIZE = 64000\n",
    "DEVICE = torch.device(\"cuda\" if torch.cuda.is_available() else \"cpu\")\n",
    "print (DEVICE)\n",
    "EPOCHS = 100"
   ]
  },
  {
   "cell_type": "code",
   "execution_count": 3,
   "metadata": {},
   "outputs": [],
   "source": [
    "pipline =transforms.Compose([\n",
    "    transforms.ToTensor(),\n",
    "    transforms.Normalize((0.1307),(0.3081)),\n",
    "])"
   ]
  },
  {
   "cell_type": "code",
   "execution_count": 4,
   "metadata": {},
   "outputs": [],
   "source": [
    "\n",
    "train_set = datasets.MNIST(\"data\",train=True,download=True,transform=pipline)\n",
    "test_set = datasets.MNIST(\"data\",train=False,download=True,transform=pipline)\n"
   ]
  },
  {
   "cell_type": "code",
   "execution_count": 5,
   "metadata": {},
   "outputs": [],
   "source": [
    "from torch.utils.data import DataLoader\n",
    "train_loader = DataLoader(train_set,batch_size=BATCH_SIZE, shuffle=True, num_workers=56)\n",
    "test_loader = DataLoader(test_set,batch_size=BATCH_SIZE, shuffle=True, num_workers=56)"
   ]
  },
  {
   "cell_type": "code",
   "execution_count": 7,
   "metadata": {},
   "outputs": [],
   "source": [
    "class Digit(nn.Module):\n",
    "    def __init__(self):\n",
    "        super().__init__()\n",
    "        self.conv1 = nn.Conv2d(1,32,3,padding= 1 )\n",
    "        self.conv2 = nn.Conv2d(32,64,3,padding= 1 )\n",
    "        self.fc1 = nn.Linear(64*14*14, 500)\n",
    "        self.fc2 = nn.Linear(500, 10)\n",
    "    def forward(self, x):\n",
    "        inpute_size = x.size(0)\n",
    "        x = self.conv1(x)  \n",
    "        x = F.relu(x) #非线性\n",
    "        x = F.max_pool2d(x,2,2)\n",
    "        x = self.conv2(x)\n",
    "        x = F.relu(x)\n",
    "        x = x.view(inpute_size,-1) # -1自动计算\n",
    "        x = self.fc1(x)\n",
    "        x = F.relu(x)\n",
    "        x = self.fc2(x)\n",
    "        output = F.log_softmax(x,dim=1) #计算分类后的概率\n",
    "        return output\n"
   ]
  },
  {
   "cell_type": "code",
   "execution_count": 8,
   "metadata": {},
   "outputs": [
    {
     "name": "stdout",
     "output_type": "stream",
     "text": [
      "Using 2 GPUs\n"
     ]
    }
   ],
   "source": [
    "model = Digit().to(DEVICE)\n",
    "optimizer = optim.Adam(model.parameters())\n",
    "if torch.cuda.device_count() > 1:\n",
    "    print(\"Using\", torch.cuda.device_count(), \"GPUs\")\n",
    "    model = nn.DataParallel(model)"
   ]
  },
  {
   "cell_type": "code",
   "execution_count": 9,
   "metadata": {},
   "outputs": [],
   "source": [
    "def train_modle(model ,device , train_loader , optimizer , epoch):\n",
    "    model.train()\n",
    "    for batch_index, (data ,target) in enumerate(train_loader):\n",
    "        data, target = data.to(device),target.to(device)\n",
    "        optimizer.zero_grad()\n",
    "        output = model(data)\n",
    "        lose = F.cross_entropy(output, target)\n",
    "       # pred = output.max(1,keepdim= True)\n",
    "        lose.backward()\n",
    "        optimizer.step()\n",
    "        if batch_index % 3000 ==  0 :\n",
    "            print (\"train :{} \\t loss : {:.6f}\".format(epoch ,lose.item()))\n",
    "\n"
   ]
  },
  {
   "cell_type": "code",
   "execution_count": 1,
   "metadata": {},
   "outputs": [],
   "source": [
    "def test_modle(model , device , test_loader):\n",
    "    model.eval()\n",
    "    correct = 0.0  \n",
    "    test_loss =0.0\n",
    "    with torch.no_grad() :\n",
    "        for data , target in test_loader :\n",
    "            data , target =data.to(device), target.to(device)\n",
    "            output = model(data)\n",
    "            test_loss +=F.cross_entropy(output , target).item()\n",
    "            pred = output.max(1,keepdim=True)[1]\n",
    "            correct += pred.eq(target.view_as(pred)).sum().item()\n",
    "        test_loss /= len(test_loader.dataset)\n",
    "        print (\"loss: {:.4f},rate : {:.3f}\\n\".format(test_loss,100*correct/len(test_loader.dataset)))"
   ]
  },
  {
   "cell_type": "code",
   "execution_count": 20,
   "metadata": {},
   "outputs": [
    {
     "name": "stdout",
     "output_type": "stream",
     "text": [
      "train :1 \t loss : 2.304159\n",
      "loss: 0.0002,rate : 55.180\n",
      "\n",
      "train :2 \t loss : 1.715967\n",
      "loss: 0.0001,rate : 60.670\n",
      "\n",
      "train :3 \t loss : 1.268524\n",
      "loss: 0.0001,rate : 70.990\n",
      "\n",
      "train :4 \t loss : 1.031204\n",
      "loss: 0.0001,rate : 76.150\n",
      "\n",
      "train :5 \t loss : 0.790404\n",
      "loss: 0.0001,rate : 81.770\n",
      "\n",
      "train :6 \t loss : 0.591556\n",
      "loss: 0.0001,rate : 82.730\n",
      "\n",
      "train :7 \t loss : 0.569559\n",
      "loss: 0.0000,rate : 86.770\n",
      "\n",
      "train :8 \t loss : 0.465474\n",
      "loss: 0.0000,rate : 89.020\n",
      "\n",
      "train :9 \t loss : 0.400895\n",
      "loss: 0.0000,rate : 88.340\n",
      "\n",
      "train :10 \t loss : 0.414433\n",
      "loss: 0.0000,rate : 89.070\n",
      "\n",
      "train :11 \t loss : 0.393104\n",
      "loss: 0.0000,rate : 90.550\n",
      "\n",
      "train :12 \t loss : 0.341101\n",
      "loss: 0.0000,rate : 91.640\n",
      "\n",
      "train :13 \t loss : 0.308841\n",
      "loss: 0.0000,rate : 91.970\n",
      "\n",
      "train :14 \t loss : 0.298908\n",
      "loss: 0.0000,rate : 92.060\n",
      "\n",
      "train :15 \t loss : 0.293958\n",
      "loss: 0.0000,rate : 92.270\n",
      "\n",
      "train :16 \t loss : 0.281416\n",
      "loss: 0.0000,rate : 92.980\n",
      "\n",
      "train :17 \t loss : 0.260936\n",
      "loss: 0.0000,rate : 93.480\n",
      "\n",
      "train :18 \t loss : 0.241487\n",
      "loss: 0.0000,rate : 93.810\n",
      "\n",
      "train :19 \t loss : 0.227416\n",
      "loss: 0.0000,rate : 94.080\n",
      "\n",
      "train :20 \t loss : 0.217531\n",
      "loss: 0.0000,rate : 94.250\n",
      "\n",
      "train :21 \t loss : 0.210243\n",
      "loss: 0.0000,rate : 94.400\n",
      "\n",
      "train :22 \t loss : 0.203814\n",
      "loss: 0.0000,rate : 94.680\n",
      "\n",
      "train :23 \t loss : 0.196089\n",
      "loss: 0.0000,rate : 94.850\n",
      "\n",
      "train :24 \t loss : 0.186586\n",
      "loss: 0.0000,rate : 95.090\n",
      "\n",
      "train :25 \t loss : 0.176685\n",
      "loss: 0.0000,rate : 95.310\n",
      "\n",
      "train :26 \t loss : 0.167969\n",
      "loss: 0.0000,rate : 95.480\n",
      "\n",
      "train :27 \t loss : 0.160886\n",
      "loss: 0.0000,rate : 95.530\n",
      "\n",
      "train :28 \t loss : 0.154766\n",
      "loss: 0.0000,rate : 95.690\n",
      "\n",
      "train :29 \t loss : 0.148898\n",
      "loss: 0.0000,rate : 95.960\n",
      "\n",
      "train :30 \t loss : 0.143019\n",
      "loss: 0.0000,rate : 96.190\n",
      "\n",
      "train :31 \t loss : 0.136827\n",
      "loss: 0.0000,rate : 96.250\n",
      "\n",
      "train :32 \t loss : 0.130362\n",
      "loss: 0.0000,rate : 96.480\n",
      "\n",
      "train :33 \t loss : 0.124397\n",
      "loss: 0.0000,rate : 96.570\n",
      "\n",
      "train :34 \t loss : 0.119174\n"
     ]
    }
   ],
   "source": [
    "for epoch in range (1,EPOCHS+1):\n",
    "    train_modle(model ,DEVICE ,train_loader ,optimizer,epoch)\n",
    "    test_modle(model , DEVICE,test_loader)"
   ]
  }
 ],
 "metadata": {
  "kernelspec": {
   "display_name": "Python 3",
   "language": "python",
   "name": "python3"
  },
  "language_info": {
   "codemirror_mode": {
    "name": "ipython",
    "version": 3
   },
   "file_extension": ".py",
   "mimetype": "text/x-python",
   "name": "python",
   "nbconvert_exporter": "python",
   "pygments_lexer": "ipython3",
   "version": "3.9.17"
  },
  "orig_nbformat": 4
 },
 "nbformat": 4,
 "nbformat_minor": 2
}
